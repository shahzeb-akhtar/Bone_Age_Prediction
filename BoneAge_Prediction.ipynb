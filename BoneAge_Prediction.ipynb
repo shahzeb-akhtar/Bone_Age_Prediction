{
 "cells": [
  {
   "cell_type": "markdown",
   "metadata": {},
   "source": [
    "## Loading the image data"
   ]
  },
  {
   "cell_type": "code",
   "execution_count": 1,
   "metadata": {},
   "outputs": [],
   "source": [
    "import os\n",
    "import numpy as np\n",
    "import pandas as pd\n",
    "from glob import glob\n",
    "from tqdm import tqdm\n",
    "import h5py\n",
    "\n",
    "from sklearn.datasets import load_files\n",
    "from sklearn.metrics import mean_absolute_error, median_absolute_error\n",
    "\n",
    "from keras.utils import np_utils\n",
    "from keras.preprocessing import image\n",
    "from keras.applications.xception import Xception\n",
    "from keras.applications.xception import preprocess_input as preprocess_input_xception\n",
    "from keras.layers import Input, Conv2D, MaxPooling2D, GlobalAveragePooling2D,MaxPooling1D, Dropout, Flatten, Dense\n",
    "from keras import layers\n",
    "from keras import models\n",
    "from keras.activations import selu\n",
    "from keras.models import Sequential\n",
    "from keras.callbacks import ModelCheckpoint\n",
    "from keras.metrics import mean_absolute_error as mean_absolute_error_keras"
   ]
  },
  {
   "cell_type": "code",
   "execution_count": 2,
   "metadata": {},
   "outputs": [],
   "source": [
    "bone_names = [int(item[25:-4]) for item in sorted(glob(\"boneage-training-dataset/*\"))]"
   ]
  },
  {
   "cell_type": "markdown",
   "metadata": {},
   "source": [
    "## Creating a dataframe consisting of ids, gender, image paths and bone ages"
   ]
  },
  {
   "cell_type": "code",
   "execution_count": 3,
   "metadata": {},
   "outputs": [
    {
     "data": {
      "text/html": [
       "<div>\n",
       "<style scoped>\n",
       "    .dataframe tbody tr th:only-of-type {\n",
       "        vertical-align: middle;\n",
       "    }\n",
       "\n",
       "    .dataframe tbody tr th {\n",
       "        vertical-align: top;\n",
       "    }\n",
       "\n",
       "    .dataframe thead th {\n",
       "        text-align: right;\n",
       "    }\n",
       "</style>\n",
       "<table border=\"1\" class=\"dataframe\">\n",
       "  <thead>\n",
       "    <tr style=\"text-align: right;\">\n",
       "      <th></th>\n",
       "      <th>id</th>\n",
       "      <th>boneage</th>\n",
       "      <th>male</th>\n",
       "      <th>img_paths</th>\n",
       "      <th>gender</th>\n",
       "    </tr>\n",
       "  </thead>\n",
       "  <tbody>\n",
       "    <tr>\n",
       "      <th>0</th>\n",
       "      <td>1377</td>\n",
       "      <td>180</td>\n",
       "      <td>False</td>\n",
       "      <td>boneage-training-dataset/1377.png</td>\n",
       "      <td>1</td>\n",
       "    </tr>\n",
       "    <tr>\n",
       "      <th>1</th>\n",
       "      <td>1378</td>\n",
       "      <td>12</td>\n",
       "      <td>False</td>\n",
       "      <td>boneage-training-dataset/1378.png</td>\n",
       "      <td>1</td>\n",
       "    </tr>\n",
       "    <tr>\n",
       "      <th>2</th>\n",
       "      <td>1379</td>\n",
       "      <td>94</td>\n",
       "      <td>False</td>\n",
       "      <td>boneage-training-dataset/1379.png</td>\n",
       "      <td>1</td>\n",
       "    </tr>\n",
       "    <tr>\n",
       "      <th>3</th>\n",
       "      <td>1380</td>\n",
       "      <td>120</td>\n",
       "      <td>True</td>\n",
       "      <td>boneage-training-dataset/1380.png</td>\n",
       "      <td>0</td>\n",
       "    </tr>\n",
       "    <tr>\n",
       "      <th>4</th>\n",
       "      <td>1381</td>\n",
       "      <td>82</td>\n",
       "      <td>False</td>\n",
       "      <td>boneage-training-dataset/1381.png</td>\n",
       "      <td>1</td>\n",
       "    </tr>\n",
       "  </tbody>\n",
       "</table>\n",
       "</div>"
      ],
      "text/plain": [
       "     id  boneage   male                          img_paths  gender\n",
       "0  1377      180  False  boneage-training-dataset/1377.png       1\n",
       "1  1378       12  False  boneage-training-dataset/1378.png       1\n",
       "2  1379       94  False  boneage-training-dataset/1379.png       1\n",
       "3  1380      120   True  boneage-training-dataset/1380.png       0\n",
       "4  1381       82  False  boneage-training-dataset/1381.png       1"
      ]
     },
     "execution_count": 3,
     "metadata": {},
     "output_type": "execute_result"
    }
   ],
   "source": [
    "bone_age_df = pd.read_csv('boneage-training-dataset.csv')\n",
    "image_paths = []\n",
    "for i in sorted(bone_names):\n",
    "    image_paths.append(\"boneage-training-dataset/{}.png\".format(str(i)))\n",
    "bone_age_df['img_paths'] = image_paths\n",
    "bone_age_df['gender'] = bone_age_df['male'].map(lambda x: 0 if x else 1)\n",
    "bone_age_df.drop('male',axis=1)\n",
    "bone_age_df.head()"
   ]
  },
  {
   "cell_type": "markdown",
   "metadata": {},
   "source": [
    "## Dividing the frame into training, validation and test sets"
   ]
  },
  {
   "cell_type": "markdown",
   "metadata": {},
   "source": [
    "Since the test csv file did not contain the bone age columns, so I had to divide the training data into three parts\n",
    "\n",
    "Train size = 11000\n",
    "\n",
    "Valid size = 1400\n",
    "\n",
    "test size = 211"
   ]
  },
  {
   "cell_type": "code",
   "execution_count": 4,
   "metadata": {},
   "outputs": [],
   "source": [
    "train_df = bone_age_df[1:11000]\n",
    "valid_df = bone_age_df[11000:12400]\n",
    "test_df = bone_age_df[12400:12611]"
   ]
  },
  {
   "cell_type": "markdown",
   "metadata": {},
   "source": [
    "## Loading Target ages"
   ]
  },
  {
   "cell_type": "code",
   "execution_count": 5,
   "metadata": {},
   "outputs": [],
   "source": [
    "train_targets = train_df['boneage']\n",
    "valid_targets = valid_df['boneage']\n",
    "test_targets = test_df['boneage']"
   ]
  },
  {
   "cell_type": "markdown",
   "metadata": {},
   "source": [
    "# Transfer Learning"
   ]
  },
  {
   "cell_type": "markdown",
   "metadata": {},
   "source": [
    "## Loading the features for Xception model"
   ]
  },
  {
   "cell_type": "code",
   "execution_count": 6,
   "metadata": {},
   "outputs": [],
   "source": [
    "train_xception = np.load(\"BoneFeaturesXceptionTrain.npz\")['train']\n",
    "valid_xception = np.load(\"BoneFeaturesXceptionValid.npz\")['valid']\n",
    "test_xception = np.load(\"BoneFeaturesXceptionTest.npz\")['test']"
   ]
  },
  {
   "cell_type": "markdown",
   "metadata": {},
   "source": [
    "## Building the model architecture"
   ]
  },
  {
   "cell_type": "code",
   "execution_count": 7,
   "metadata": {},
   "outputs": [
    {
     "name": "stdout",
     "output_type": "stream",
     "text": [
      "Model: \"model\"\n",
      "__________________________________________________________________________________________________\n",
      "Layer (type)                    Output Shape         Param #     Connected to                     \n",
      "==================================================================================================\n",
      "xception (InputLayer)           [(None, 7, 7, 2048)] 0                                            \n",
      "__________________________________________________________________________________________________\n",
      "global_average_pooling2d (Globa (None, 2048)         0           xception[0][0]                   \n",
      "__________________________________________________________________________________________________\n",
      "dense (Dense)                   (None, 128)          262272      global_average_pooling2d[0][0]   \n",
      "__________________________________________________________________________________________________\n",
      "gender (InputLayer)             [(None, 1)]          0                                            \n",
      "__________________________________________________________________________________________________\n",
      "dropout (Dropout)               (None, 128)          0           dense[0][0]                      \n",
      "__________________________________________________________________________________________________\n",
      "dense_1 (Dense)                 (None, 128)          256         gender[0][0]                     \n",
      "__________________________________________________________________________________________________\n",
      "add (Add)                       (None, 128)          0           dropout[0][0]                    \n",
      "                                                                 dense_1[0][0]                    \n",
      "__________________________________________________________________________________________________\n",
      "dense_2 (Dense)                 (None, 128)          16512       add[0][0]                        \n",
      "__________________________________________________________________________________________________\n",
      "dropout_1 (Dropout)             (None, 128)          0           dense_2[0][0]                    \n",
      "__________________________________________________________________________________________________\n",
      "dense_3 (Dense)                 (None, 256)          33024       dropout_1[0][0]                  \n",
      "__________________________________________________________________________________________________\n",
      "dropout_2 (Dropout)             (None, 256)          0           dense_3[0][0]                    \n",
      "__________________________________________________________________________________________________\n",
      "dense_4 (Dense)                 (None, 128)          32896       dropout_2[0][0]                  \n",
      "__________________________________________________________________________________________________\n",
      "age_values (Dense)              (None, 1)            129         dense_4[0][0]                    \n",
      "==================================================================================================\n",
      "Total params: 345,089\n",
      "Trainable params: 345,089\n",
      "Non-trainable params: 0\n",
      "__________________________________________________________________________________________________\n",
      "None\n"
     ]
    }
   ],
   "source": [
    "def model_architecture(train_data,name):\n",
    "    #Creating Xception path of the network\n",
    "    xception_input = Input(shape=train_data.shape[1:], name=name)\n",
    "    xception_pool = GlobalAveragePooling2D()(xception_input)\n",
    "    xception_dense = Dense(128,activation='selu')(xception_pool)\n",
    "    xception_dense = Dropout(0.25)(xception_dense)\n",
    "    \n",
    "    #Creating gender path of the network\n",
    "    gender_input = Input(shape=(1,), name='gender')\n",
    "    gender_part = Dense(128, activation='selu')(gender_input)\n",
    "    \n",
    "    #marging the two paths - Xception and Gender\n",
    "    net = layers.Add()([xception_dense, gender_part])\n",
    "\n",
    "    #Adding further Dense layers\n",
    "    net = Dense(128, activation='selu')(net)\n",
    "    net = Dropout(0.25)(net)\n",
    "    net = Dense(256, activation='selu')(net)\n",
    "    net = Dropout(0.25)(net)\n",
    "    net = Dense(128, activation='selu')(net)\n",
    "    \n",
    "    #final output layer with one neuron to predict the bone age\n",
    "    bone_age_layer = Dense(units=1, name='age_values')(net)\n",
    "\n",
    "    bone_model = models.Model(inputs=[xception_input, gender_input], outputs=bone_age_layer)\n",
    "\n",
    "    return bone_model\n",
    "\n",
    "# Creating model based on Xception\n",
    "bone_model_xception = model_architecture(train_xception,'xception')\n",
    "print(bone_model_xception.summary())"
   ]
  },
  {
   "cell_type": "markdown",
   "metadata": {},
   "source": [
    "## Compiling the model"
   ]
  },
  {
   "cell_type": "code",
   "execution_count": 8,
   "metadata": {},
   "outputs": [],
   "source": [
    "bone_model_xception.compile(optimizer = 'adam', loss = 'mse', metrics = [mean_absolute_error_keras])"
   ]
  },
  {
   "cell_type": "markdown",
   "metadata": {},
   "source": [
    "## Loading the best weights and training the model"
   ]
  },
  {
   "cell_type": "code",
   "execution_count": 9,
   "metadata": {
    "scrolled": true
   },
   "outputs": [
    {
     "name": "stdout",
     "output_type": "stream",
     "text": [
      "Epoch 1/40\n",
      "217/220 [============================>.] - ETA: 0s - loss: 1711.6454 - mean_absolute_error: 31.0901\n",
      "Epoch 00001: val_loss improved from inf to 555.16284, saving model to weights.best.from_scratch.hdf5\n",
      "220/220 [==============================] - 3s 14ms/step - loss: 1698.1010 - mean_absolute_error: 30.9513 - val_loss: 555.1628 - val_mean_absolute_error: 18.6968\n",
      "Epoch 2/40\n",
      "216/220 [============================>.] - ETA: 0s - loss: 607.7294 - mean_absolute_error: 19.3639\n",
      "Epoch 00002: val_loss improved from 555.16284 to 375.57126, saving model to weights.best.from_scratch.hdf5\n",
      "220/220 [==============================] - 3s 13ms/step - loss: 607.4499 - mean_absolute_error: 19.3613 - val_loss: 375.5713 - val_mean_absolute_error: 15.2345\n",
      "Epoch 3/40\n",
      "217/220 [============================>.] - ETA: 0s - loss: 502.8750 - mean_absolute_error: 17.4972\n",
      "Epoch 00003: val_loss improved from 375.57126 to 347.53699, saving model to weights.best.from_scratch.hdf5\n",
      "220/220 [==============================] - 3s 13ms/step - loss: 503.1136 - mean_absolute_error: 17.5102 - val_loss: 347.5370 - val_mean_absolute_error: 14.5015\n",
      "Epoch 4/40\n",
      "217/220 [============================>.] - ETA: 0s - loss: 460.6959 - mean_absolute_error: 16.6921\n",
      "Epoch 00004: val_loss improved from 347.53699 to 322.94479, saving model to weights.best.from_scratch.hdf5\n",
      "220/220 [==============================] - 3s 14ms/step - loss: 460.5505 - mean_absolute_error: 16.6917 - val_loss: 322.9448 - val_mean_absolute_error: 13.9486\n",
      "Epoch 5/40\n",
      "218/220 [============================>.] - ETA: 0s - loss: 429.3448 - mean_absolute_error: 16.1930\n",
      "Epoch 00005: val_loss did not improve from 322.94479\n",
      "220/220 [==============================] - 3s 13ms/step - loss: 429.8502 - mean_absolute_error: 16.2039 - val_loss: 331.7742 - val_mean_absolute_error: 14.2254\n",
      "Epoch 6/40\n",
      "218/220 [============================>.] - ETA: 0s - loss: 404.5046 - mean_absolute_error: 15.6414\n",
      "Epoch 00006: val_loss improved from 322.94479 to 317.93213, saving model to weights.best.from_scratch.hdf5\n",
      "220/220 [==============================] - 3s 12ms/step - loss: 404.6610 - mean_absolute_error: 15.6416 - val_loss: 317.9321 - val_mean_absolute_error: 13.8953\n",
      "Epoch 7/40\n",
      "220/220 [==============================] - ETA: 0s - loss: 393.8864 - mean_absolute_error: 15.4208\n",
      "Epoch 00007: val_loss did not improve from 317.93213\n",
      "220/220 [==============================] - 3s 13ms/step - loss: 393.8864 - mean_absolute_error: 15.4208 - val_loss: 353.6795 - val_mean_absolute_error: 14.5540\n",
      "Epoch 8/40\n",
      "219/220 [============================>.] - ETA: 0s - loss: 372.2751 - mean_absolute_error: 15.0638\n",
      "Epoch 00008: val_loss improved from 317.93213 to 295.56985, saving model to weights.best.from_scratch.hdf5\n",
      "220/220 [==============================] - 3s 14ms/step - loss: 371.6178 - mean_absolute_error: 15.0487 - val_loss: 295.5699 - val_mean_absolute_error: 13.2827\n",
      "Epoch 9/40\n",
      "217/220 [============================>.] - ETA: 0s - loss: 366.8218 - mean_absolute_error: 14.8926\n",
      "Epoch 00009: val_loss improved from 295.56985 to 278.48309, saving model to weights.best.from_scratch.hdf5\n",
      "220/220 [==============================] - 12s 56ms/step - loss: 366.0598 - mean_absolute_error: 14.8798 - val_loss: 278.4831 - val_mean_absolute_error: 12.9398\n",
      "Epoch 10/40\n",
      "219/220 [============================>.] - ETA: 0s - loss: 359.5310 - mean_absolute_error: 14.7258\n",
      "Epoch 00010: val_loss did not improve from 278.48309\n",
      "220/220 [==============================] - 32s 147ms/step - loss: 358.7571 - mean_absolute_error: 14.7104 - val_loss: 291.0507 - val_mean_absolute_error: 13.0993\n",
      "Epoch 11/40\n",
      "220/220 [==============================] - ETA: 0s - loss: 350.0096 - mean_absolute_error: 14.6150\n",
      "Epoch 00011: val_loss improved from 278.48309 to 269.37686, saving model to weights.best.from_scratch.hdf5\n",
      "220/220 [==============================] - 30s 138ms/step - loss: 350.0096 - mean_absolute_error: 14.6150 - val_loss: 269.3769 - val_mean_absolute_error: 12.6582\n",
      "Epoch 12/40\n",
      "214/220 [============================>.] - ETA: 0s - loss: 333.7116 - mean_absolute_error: 14.2590\n",
      "Epoch 00012: val_loss did not improve from 269.37686\n",
      "220/220 [==============================] - 58s 264ms/step - loss: 332.5012 - mean_absolute_error: 14.2377 - val_loss: 283.5073 - val_mean_absolute_error: 13.0621\n",
      "Epoch 13/40\n",
      "220/220 [==============================] - ETA: 0s - loss: 331.8240 - mean_absolute_error: 14.1847\n",
      "Epoch 00013: val_loss improved from 269.37686 to 267.71811, saving model to weights.best.from_scratch.hdf5\n",
      "220/220 [==============================] - 4s 20ms/step - loss: 331.8240 - mean_absolute_error: 14.1847 - val_loss: 267.7181 - val_mean_absolute_error: 12.6002\n",
      "Epoch 14/40\n",
      "215/220 [============================>.] - ETA: 0s - loss: 325.5465 - mean_absolute_error: 14.0510\n",
      "Epoch 00014: val_loss improved from 267.71811 to 265.21609, saving model to weights.best.from_scratch.hdf5\n",
      "220/220 [==============================] - 20s 89ms/step - loss: 326.1544 - mean_absolute_error: 14.0634 - val_loss: 265.2161 - val_mean_absolute_error: 12.4412\n",
      "Epoch 15/40\n",
      "217/220 [============================>.] - ETA: 0s - loss: 330.2998 - mean_absolute_error: 14.1572\n",
      "Epoch 00015: val_loss did not improve from 265.21609\n",
      "220/220 [==============================] - 3s 13ms/step - loss: 330.8419 - mean_absolute_error: 14.1625 - val_loss: 272.1609 - val_mean_absolute_error: 12.6775\n",
      "Epoch 16/40\n",
      "217/220 [============================>.] - ETA: 0s - loss: 313.3262 - mean_absolute_error: 13.7719\n",
      "Epoch 00016: val_loss did not improve from 265.21609\n",
      "220/220 [==============================] - 3s 15ms/step - loss: 312.8575 - mean_absolute_error: 13.7739 - val_loss: 274.3025 - val_mean_absolute_error: 12.7903\n",
      "Epoch 17/40\n",
      "216/220 [============================>.] - ETA: 0s - loss: 301.8533 - mean_absolute_error: 13.5471\n",
      "Epoch 00017: val_loss did not improve from 265.21609\n",
      "220/220 [==============================] - 3s 13ms/step - loss: 302.1483 - mean_absolute_error: 13.5598 - val_loss: 285.8516 - val_mean_absolute_error: 12.8704\n",
      "Epoch 18/40\n",
      "216/220 [============================>.] - ETA: 0s - loss: 297.1893 - mean_absolute_error: 13.4105\n",
      "Epoch 00018: val_loss improved from 265.21609 to 261.30481, saving model to weights.best.from_scratch.hdf5\n",
      "220/220 [==============================] - 3s 13ms/step - loss: 297.2646 - mean_absolute_error: 13.4100 - val_loss: 261.3048 - val_mean_absolute_error: 12.3547\n",
      "Epoch 19/40\n",
      "220/220 [==============================] - ETA: 0s - loss: 293.5081 - mean_absolute_error: 13.3639\n",
      "Epoch 00019: val_loss did not improve from 261.30481\n",
      "220/220 [==============================] - 3s 13ms/step - loss: 293.5081 - mean_absolute_error: 13.3639 - val_loss: 277.9020 - val_mean_absolute_error: 12.8859\n",
      "Epoch 20/40\n",
      "219/220 [============================>.] - ETA: 0s - loss: 291.2456 - mean_absolute_error: 13.2475\n",
      "Epoch 00020: val_loss did not improve from 261.30481\n",
      "220/220 [==============================] - 12s 56ms/step - loss: 291.1129 - mean_absolute_error: 13.2443 - val_loss: 263.0659 - val_mean_absolute_error: 12.3397\n",
      "Epoch 21/40\n",
      "218/220 [============================>.] - ETA: 0s - loss: 288.6508 - mean_absolute_error: 13.2329\n",
      "Epoch 00021: val_loss improved from 261.30481 to 259.30341, saving model to weights.best.from_scratch.hdf5\n",
      "220/220 [==============================] - 10s 44ms/step - loss: 288.4789 - mean_absolute_error: 13.2315 - val_loss: 259.3034 - val_mean_absolute_error: 12.2554\n",
      "Epoch 22/40\n",
      "220/220 [==============================] - ETA: 0s - loss: 282.5993 - mean_absolute_error: 13.1198\n",
      "Epoch 00022: val_loss did not improve from 259.30341\n",
      "220/220 [==============================] - 3s 14ms/step - loss: 282.5993 - mean_absolute_error: 13.1198 - val_loss: 285.4509 - val_mean_absolute_error: 12.9526\n",
      "Epoch 23/40\n",
      "216/220 [============================>.] - ETA: 0s - loss: 279.2951 - mean_absolute_error: 13.0518\n",
      "Epoch 00023: val_loss did not improve from 259.30341\n",
      "220/220 [==============================] - 3s 13ms/step - loss: 279.1656 - mean_absolute_error: 13.0382 - val_loss: 261.3306 - val_mean_absolute_error: 12.3147\n",
      "Epoch 24/40\n"
     ]
    },
    {
     "name": "stdout",
     "output_type": "stream",
     "text": [
      "218/220 [============================>.] - ETA: 0s - loss: 264.4595 - mean_absolute_error: 12.6967\n",
      "Epoch 00024: val_loss improved from 259.30341 to 252.63966, saving model to weights.best.from_scratch.hdf5\n",
      "220/220 [==============================] - 3s 14ms/step - loss: 264.7074 - mean_absolute_error: 12.7065 - val_loss: 252.6397 - val_mean_absolute_error: 12.1001\n",
      "Epoch 25/40\n",
      "218/220 [============================>.] - ETA: 0s - loss: 263.3037 - mean_absolute_error: 12.6337\n",
      "Epoch 00025: val_loss did not improve from 252.63966\n",
      "220/220 [==============================] - 3s 14ms/step - loss: 263.3634 - mean_absolute_error: 12.6307 - val_loss: 272.7971 - val_mean_absolute_error: 12.6300\n",
      "Epoch 26/40\n",
      "216/220 [============================>.] - ETA: 0s - loss: 270.2253 - mean_absolute_error: 12.8472\n",
      "Epoch 00026: val_loss did not improve from 252.63966\n",
      "220/220 [==============================] - 3s 13ms/step - loss: 269.9561 - mean_absolute_error: 12.8413 - val_loss: 277.9416 - val_mean_absolute_error: 12.7385\n",
      "Epoch 27/40\n",
      "215/220 [============================>.] - ETA: 0s - loss: 266.8257 - mean_absolute_error: 12.7679\n",
      "Epoch 00027: val_loss did not improve from 252.63966\n",
      "220/220 [==============================] - 3s 12ms/step - loss: 267.5375 - mean_absolute_error: 12.7872 - val_loss: 294.5778 - val_mean_absolute_error: 13.1482\n",
      "Epoch 28/40\n",
      "217/220 [============================>.] - ETA: 0s - loss: 273.0991 - mean_absolute_error: 12.8584\n",
      "Epoch 00028: val_loss did not improve from 252.63966\n",
      "220/220 [==============================] - 3s 12ms/step - loss: 273.4725 - mean_absolute_error: 12.8652 - val_loss: 252.9507 - val_mean_absolute_error: 12.1834\n",
      "Epoch 29/40\n",
      "220/220 [==============================] - ETA: 0s - loss: 264.0447 - mean_absolute_error: 12.7187\n",
      "Epoch 00029: val_loss did not improve from 252.63966\n",
      "220/220 [==============================] - 3s 15ms/step - loss: 264.0447 - mean_absolute_error: 12.7187 - val_loss: 288.7523 - val_mean_absolute_error: 13.0144\n",
      "Epoch 30/40\n",
      "217/220 [============================>.] - ETA: 0s - loss: 257.4627 - mean_absolute_error: 12.4718\n",
      "Epoch 00030: val_loss improved from 252.63966 to 248.57581, saving model to weights.best.from_scratch.hdf5\n",
      "220/220 [==============================] - 11s 49ms/step - loss: 257.3406 - mean_absolute_error: 12.4676 - val_loss: 248.5758 - val_mean_absolute_error: 12.0378\n",
      "Epoch 31/40\n",
      "220/220 [==============================] - ETA: 0s - loss: 247.1518 - mean_absolute_error: 12.2948\n",
      "Epoch 00031: val_loss did not improve from 248.57581\n",
      "220/220 [==============================] - 3s 12ms/step - loss: 247.1518 - mean_absolute_error: 12.2948 - val_loss: 267.3841 - val_mean_absolute_error: 12.4300\n",
      "Epoch 32/40\n",
      "217/220 [============================>.] - ETA: 0s - loss: 244.4085 - mean_absolute_error: 12.1670\n",
      "Epoch 00032: val_loss did not improve from 248.57581\n",
      "220/220 [==============================] - 3s 12ms/step - loss: 244.3755 - mean_absolute_error: 12.1630 - val_loss: 286.9908 - val_mean_absolute_error: 12.8100\n",
      "Epoch 33/40\n",
      "216/220 [============================>.] - ETA: 0s - loss: 244.5853 - mean_absolute_error: 12.1845\n",
      "Epoch 00033: val_loss did not improve from 248.57581\n",
      "220/220 [==============================] - 3s 13ms/step - loss: 245.0642 - mean_absolute_error: 12.2066 - val_loss: 264.6609 - val_mean_absolute_error: 12.6769\n",
      "Epoch 34/40\n",
      "218/220 [============================>.] - ETA: 0s - loss: 246.7845 - mean_absolute_error: 12.2186\n",
      "Epoch 00034: val_loss did not improve from 248.57581\n",
      "220/220 [==============================] - 3s 13ms/step - loss: 247.1068 - mean_absolute_error: 12.2286 - val_loss: 253.1160 - val_mean_absolute_error: 12.2089\n",
      "Epoch 35/40\n",
      "218/220 [============================>.] - ETA: 0s - loss: 225.6423 - mean_absolute_error: 11.7629\n",
      "Epoch 00035: val_loss did not improve from 248.57581\n",
      "220/220 [==============================] - 3s 12ms/step - loss: 225.9356 - mean_absolute_error: 11.7761 - val_loss: 259.0119 - val_mean_absolute_error: 12.2685\n",
      "Epoch 36/40\n",
      "220/220 [==============================] - ETA: 0s - loss: 240.1395 - mean_absolute_error: 12.0959\n",
      "Epoch 00036: val_loss did not improve from 248.57581\n",
      "220/220 [==============================] - 3s 13ms/step - loss: 240.1395 - mean_absolute_error: 12.0959 - val_loss: 272.5461 - val_mean_absolute_error: 13.1035\n",
      "Epoch 37/40\n",
      "218/220 [============================>.] - ETA: 0s - loss: 234.7825 - mean_absolute_error: 11.9759\n",
      "Epoch 00037: val_loss did not improve from 248.57581\n",
      "220/220 [==============================] - 3s 13ms/step - loss: 234.5953 - mean_absolute_error: 11.9684 - val_loss: 257.3777 - val_mean_absolute_error: 12.2032\n",
      "Epoch 38/40\n",
      "220/220 [==============================] - ETA: 0s - loss: 233.1312 - mean_absolute_error: 11.9187\n",
      "Epoch 00038: val_loss improved from 248.57581 to 234.82703, saving model to weights.best.from_scratch.hdf5\n",
      "220/220 [==============================] - 3s 13ms/step - loss: 233.1312 - mean_absolute_error: 11.9187 - val_loss: 234.8270 - val_mean_absolute_error: 11.6568\n",
      "Epoch 39/40\n",
      "217/220 [============================>.] - ETA: 0s - loss: 226.8019 - mean_absolute_error: 11.7186\n",
      "Epoch 00039: val_loss did not improve from 234.82703\n",
      "220/220 [==============================] - 10s 46ms/step - loss: 227.0656 - mean_absolute_error: 11.7187 - val_loss: 261.3793 - val_mean_absolute_error: 12.3202\n",
      "Epoch 40/40\n",
      "218/220 [============================>.] - ETA: 0s - loss: 228.7342 - mean_absolute_error: 11.8128\n",
      "Epoch 00040: val_loss did not improve from 234.82703\n",
      "220/220 [==============================] - 3s 12ms/step - loss: 228.7645 - mean_absolute_error: 11.8116 - val_loss: 248.1356 - val_mean_absolute_error: 12.0566\n"
     ]
    },
    {
     "data": {
      "text/plain": [
       "<tensorflow.python.keras.callbacks.History at 0x7f0fc01dc1d0>"
      ]
     },
     "execution_count": 9,
     "metadata": {},
     "output_type": "execute_result"
    }
   ],
   "source": [
    "checkpointer = ModelCheckpoint(filepath='weights.best.from_scratch.hdf5', \n",
    "                               verbose=1, save_best_only=True)\n",
    "\n",
    "bone_model_xception.fit([train_xception,train_df['gender']], train_targets, \n",
    "          validation_data=([valid_xception,valid_df['gender']], valid_targets),\n",
    "          epochs=40, batch_size=50, callbacks=[checkpointer], verbose=1)"
   ]
  },
  {
   "cell_type": "markdown",
   "metadata": {},
   "source": [
    "## Making the predictions and evaluating the model"
   ]
  },
  {
   "cell_type": "code",
   "execution_count": 10,
   "metadata": {},
   "outputs": [
    {
     "name": "stdout",
     "output_type": "stream",
     "text": [
      "Mean: 11.33025228129744\n",
      "Median: 9.334098815917969\n"
     ]
    }
   ],
   "source": [
    "predictions = []\n",
    "    #predictions = [(bone_model.predict([np.expand_dims(feature_1, axis=0),np.expand_dims(feature_2, axis=0)])) for feature_1,feature_2 in zip(test_xception,test['male'])]\n",
    "for i,j in zip(test_xception,test_df['gender']):\n",
    "    predictions.append(bone_model_xception.predict([np.expand_dims(i,axis=0),np.expand_dims(j,axis=0)])[0][0])\n",
    "targets = []\n",
    "for i in test_targets:\n",
    "    targets.append(i)\n",
    "    \n",
    "print(\"Mean:\",mean_absolute_error(predictions,targets))\n",
    "print(\"Median:\",median_absolute_error(predictions,targets))"
   ]
  },
  {
   "cell_type": "code",
   "execution_count": 11,
   "metadata": {},
   "outputs": [],
   "source": [
    "output = list(zip(test_df['gender'],targets,predictions))\n",
    "df = pd.DataFrame(output, columns=['Male','Actual Target','Predicted_target'])\n",
    "df.to_csv(\"Final results.csv\")"
   ]
  }
 ],
 "metadata": {
  "kernelspec": {
   "display_name": "Python 3",
   "language": "python",
   "name": "python3"
  },
  "language_info": {
   "codemirror_mode": {
    "name": "ipython",
    "version": 3
   },
   "file_extension": ".py",
   "mimetype": "text/x-python",
   "name": "python",
   "nbconvert_exporter": "python",
   "pygments_lexer": "ipython3",
   "version": "3.7.6"
  }
 },
 "nbformat": 4,
 "nbformat_minor": 2
}
