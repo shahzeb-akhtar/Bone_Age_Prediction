{
 "cells": [
  {
   "cell_type": "markdown",
   "metadata": {},
   "source": [
    "## Loading the image data"
   ]
  },
  {
   "cell_type": "code",
   "execution_count": 1,
   "metadata": {},
   "outputs": [],
   "source": [
    "import os\n",
    "import numpy as np\n",
    "import pandas as pd\n",
    "from glob import glob\n",
    "from tqdm import tqdm\n",
    "import h5py\n",
    "\n",
    "from sklearn.datasets import load_files\n",
    "\n",
    "from keras.utils import np_utils\n",
    "from keras.preprocessing import image\n",
    "from keras.applications.xception import Xception\n",
    "from keras.applications.xception import preprocess_input as preprocess_input_xception"
   ]
  },
  {
   "cell_type": "code",
   "execution_count": 2,
   "metadata": {},
   "outputs": [],
   "source": [
    "files = glob('boneage-training-dataset/*')\n",
    "additional_test_files = glob('boneage-test-dataset/*')\n",
    "bone_names = [int(item[25:-4]) for item in sorted(glob(\"boneage-training-dataset/*\"))]"
   ]
  },
  {
   "cell_type": "code",
   "execution_count": 3,
   "metadata": {},
   "outputs": [
    {
     "name": "stdout",
     "output_type": "stream",
     "text": [
      "There are 12611 total bone images.\n",
      "\n",
      "There are 11000 training bone images.\n",
      "There are 1400 validation bone images.\n",
      "There are 211 test bone images.\n"
     ]
    }
   ],
   "source": [
    "# divide files in training (~87%), validation (~11%) and testing sets (~ 1.5%)\n",
    "train_files = files[:11000]\n",
    "valid_files = files[11000:12400]\n",
    "test_files = files[12400:12611]\n",
    "\n",
    "print('There are %s total bone images.\\n' % len(np.hstack([train_files,valid_files,test_files])))\n",
    "print('There are %d training bone images.' % len(train_files))\n",
    "print('There are %d validation bone images.' % len(valid_files))\n",
    "print('There are %d test bone images.'% len(test_files))"
   ]
  },
  {
   "cell_type": "markdown",
   "metadata": {},
   "source": [
    "## Creating a dataframe consisting of ids, gender, image paths and bone ages"
   ]
  },
  {
   "cell_type": "code",
   "execution_count": 4,
   "metadata": {},
   "outputs": [
    {
     "data": {
      "text/html": [
       "<div>\n",
       "<style scoped>\n",
       "    .dataframe tbody tr th:only-of-type {\n",
       "        vertical-align: middle;\n",
       "    }\n",
       "\n",
       "    .dataframe tbody tr th {\n",
       "        vertical-align: top;\n",
       "    }\n",
       "\n",
       "    .dataframe thead th {\n",
       "        text-align: right;\n",
       "    }\n",
       "</style>\n",
       "<table border=\"1\" class=\"dataframe\">\n",
       "  <thead>\n",
       "    <tr style=\"text-align: right;\">\n",
       "      <th></th>\n",
       "      <th>id</th>\n",
       "      <th>boneage</th>\n",
       "      <th>male</th>\n",
       "      <th>img_paths</th>\n",
       "      <th>gender</th>\n",
       "    </tr>\n",
       "  </thead>\n",
       "  <tbody>\n",
       "    <tr>\n",
       "      <th>0</th>\n",
       "      <td>1377</td>\n",
       "      <td>180</td>\n",
       "      <td>False</td>\n",
       "      <td>boneage-training-dataset/1377.png</td>\n",
       "      <td>1</td>\n",
       "    </tr>\n",
       "    <tr>\n",
       "      <th>1</th>\n",
       "      <td>1378</td>\n",
       "      <td>12</td>\n",
       "      <td>False</td>\n",
       "      <td>boneage-training-dataset/1378.png</td>\n",
       "      <td>1</td>\n",
       "    </tr>\n",
       "    <tr>\n",
       "      <th>2</th>\n",
       "      <td>1379</td>\n",
       "      <td>94</td>\n",
       "      <td>False</td>\n",
       "      <td>boneage-training-dataset/1379.png</td>\n",
       "      <td>1</td>\n",
       "    </tr>\n",
       "    <tr>\n",
       "      <th>3</th>\n",
       "      <td>1380</td>\n",
       "      <td>120</td>\n",
       "      <td>True</td>\n",
       "      <td>boneage-training-dataset/1380.png</td>\n",
       "      <td>0</td>\n",
       "    </tr>\n",
       "    <tr>\n",
       "      <th>4</th>\n",
       "      <td>1381</td>\n",
       "      <td>82</td>\n",
       "      <td>False</td>\n",
       "      <td>boneage-training-dataset/1381.png</td>\n",
       "      <td>1</td>\n",
       "    </tr>\n",
       "  </tbody>\n",
       "</table>\n",
       "</div>"
      ],
      "text/plain": [
       "     id  boneage   male                          img_paths  gender\n",
       "0  1377      180  False  boneage-training-dataset/1377.png       1\n",
       "1  1378       12  False  boneage-training-dataset/1378.png       1\n",
       "2  1379       94  False  boneage-training-dataset/1379.png       1\n",
       "3  1380      120   True  boneage-training-dataset/1380.png       0\n",
       "4  1381       82  False  boneage-training-dataset/1381.png       1"
      ]
     },
     "execution_count": 4,
     "metadata": {},
     "output_type": "execute_result"
    }
   ],
   "source": [
    "bone_age_df = pd.read_csv('boneage-training-dataset.csv')\n",
    "image_paths = []\n",
    "for i in sorted(bone_names):\n",
    "    image_paths.append(\"boneage-training-dataset/{}.png\".format(str(i)))\n",
    "bone_age_df['img_paths'] = image_paths\n",
    "bone_age_df['gender'] = bone_age_df['male'].map(lambda x: 0 if x else 1)\n",
    "bone_age_df.drop('male',axis=1)\n",
    "bone_age_df.head()"
   ]
  },
  {
   "cell_type": "markdown",
   "metadata": {},
   "source": [
    "## Dividing the frame into training, validation and test sets"
   ]
  },
  {
   "cell_type": "markdown",
   "metadata": {},
   "source": [
    "Since the test csv file did not contain the bone age columns, so dividing the training data into three parts\n",
    "\n",
    "Train size = 11000\n",
    "\n",
    "Valid size = 1400\n",
    "\n",
    "test size = 211"
   ]
  },
  {
   "cell_type": "code",
   "execution_count": 5,
   "metadata": {},
   "outputs": [],
   "source": [
    "train_df = bone_age_df[1:11000]\n",
    "valid_df = bone_age_df[11000:12400]\n",
    "test_df = bone_age_df[12400:12611]"
   ]
  },
  {
   "cell_type": "markdown",
   "metadata": {},
   "source": [
    "## Loading Target ages"
   ]
  },
  {
   "cell_type": "code",
   "execution_count": 6,
   "metadata": {},
   "outputs": [],
   "source": [
    "train_targets = train_df['boneage']\n",
    "valid_targets = valid_df['boneage']\n",
    "test_targets = test_df['boneage']"
   ]
  },
  {
   "cell_type": "markdown",
   "metadata": {},
   "source": [
    "## Creating the tensors for creating features out of the images"
   ]
  },
  {
   "cell_type": "code",
   "execution_count": 7,
   "metadata": {},
   "outputs": [],
   "source": [
    "def path_to_tensor(img_path):\n",
    "    img = image.load_img(img_path, target_size=(224, 224))\n",
    "    x = image.img_to_array(img)\n",
    "    return np.expand_dims(x, axis=0)\n",
    "\n",
    "def paths_to_tensor(img_paths):\n",
    "    list_of_tensors = [path_to_tensor(img_path) for img_path in img_paths]\n",
    "    return np.vstack(list_of_tensors)"
   ]
  },
  {
   "cell_type": "markdown",
   "metadata": {},
   "source": [
    "## Using the Xception for feature generation"
   ]
  },
  {
   "cell_type": "code",
   "execution_count": 8,
   "metadata": {},
   "outputs": [],
   "source": [
    "model_xception = Xception(weights='imagenet',include_top=False)"
   ]
  },
  {
   "cell_type": "markdown",
   "metadata": {},
   "source": [
    "## Creating the features for train, valid and test and saving it into npz files"
   ]
  },
  {
   "cell_type": "code",
   "execution_count": null,
   "metadata": {},
   "outputs": [],
   "source": [
    "np.savez(\"BoneFeaturesXceptionTest.npz\",\n",
    "         test=model_xception.predict(preprocess_input_xception(paths_to_tensor(test_df['img_paths']))))"
   ]
  },
  {
   "cell_type": "code",
   "execution_count": null,
   "metadata": {},
   "outputs": [],
   "source": [
    "np.savez(\"BoneFeaturesXceptionValid.npz\",\n",
    "         valid=model_xception.predict(preprocess_input_xception(paths_to_tensor(valid_df['img_paths']))))"
   ]
  },
  {
   "cell_type": "code",
   "execution_count": 9,
   "metadata": {},
   "outputs": [],
   "source": [
    "np.savez(\"BoneFeaturesXceptionTrain.npz\",\n",
    "         train=model_xception.predict(preprocess_input_xception(paths_to_tensor(train_df['img_paths']))))"
   ]
  }
 ],
 "metadata": {
  "kernelspec": {
   "display_name": "Python 3",
   "language": "python",
   "name": "python3"
  },
  "language_info": {
   "codemirror_mode": {
    "name": "ipython",
    "version": 3
   },
   "file_extension": ".py",
   "mimetype": "text/x-python",
   "name": "python",
   "nbconvert_exporter": "python",
   "pygments_lexer": "ipython3",
   "version": "3.7.6"
  }
 },
 "nbformat": 4,
 "nbformat_minor": 2
}
